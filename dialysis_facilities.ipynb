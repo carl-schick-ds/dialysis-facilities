{
 "cells": [
  {
   "cell_type": "markdown",
   "metadata": {},
   "source": [
    "## Analyzing Dialysis Facilities in the United States  \n",
    "This project will analyze dialysis facilities in the United States and attempt to answer the following question:\n",
    " - What factors lead to better care in a dialysis facility?\n",
    "\n",
    "https://github.com/carl-schick-ds/meteorite-landings\n",
    "\n",
    "https://catalog.data.gov/dataset/medicare-dialysis-facilities"
   ]
  },
  {
   "cell_type": "markdown",
   "metadata": {},
   "source": [
    "***\n",
    "### Setup\n",
    "Import needed libraries.  Unless otherwise noted, all libraries are available in the baseline conda environment."
   ]
  },
  {
   "cell_type": "code",
   "execution_count": 48,
   "metadata": {},
   "outputs": [],
   "source": [
    "# Import Libraries\n",
    "import pandas as pd\n",
    "import numpy as np\n",
    "from IPython.display import display"
   ]
  },
  {
   "cell_type": "code",
   "execution_count": null,
   "metadata": {},
   "outputs": [],
   "source": [
    "# Auto Re-load External Modules\n",
    "%load_ext autoreload\n",
    "%autoreload 2"
   ]
  },
  {
   "cell_type": "code",
   "execution_count": null,
   "metadata": {},
   "outputs": [],
   "source": [
    "# Toggle REFRESH_DATA literal\n",
    "\n",
    "REFRESH_DATA = False"
   ]
  },
  {
   "cell_type": "code",
   "execution_count": null,
   "metadata": {},
   "outputs": [],
   "source": [
    "# Refresh Data\n",
    "# See the dialysis_facilities.py file in this repostitory for details on the data collection routines\n",
    "\n",
    "if REFRESH_DATA:\n",
    "    import dialysis_facilities_dc as dc\n",
    "\n",
    "    # Get the data\n",
    "    raw_url = 'https://data.cms.gov/sites/default/files/2021-01/FY_2021_Facility_Level_Dialysis_Facility_Reports.csv'\n",
    "    raw_facilities_df = pd.read_csv(raw_url, dtype={'NPI': 'str', 'Alternate CCN(s)': 'str'})\n",
    "    print()\n",
    "    meteorite_data = dc.get_meteorite_data()\n",
    "    print()\n",
    "    meteorite_data = dc.process_locations(meteorite_data)\n",
    "    print()\n",
    "    meteorite_data = dc.get_country_data(meteorite_data)\n",
    "\n",
    "    # Convert to CSV file\n",
    "    meteorite_data.to_csv('meteorite_landings.csv')"
   ]
  },
  {
   "cell_type": "code",
   "execution_count": 49,
   "metadata": {},
   "outputs": [
    {
     "data": {
      "text/html": [
       "<div>\n",
       "<style scoped>\n",
       "    .dataframe tbody tr th:only-of-type {\n",
       "        vertical-align: middle;\n",
       "    }\n",
       "\n",
       "    .dataframe tbody tr th {\n",
       "        vertical-align: top;\n",
       "    }\n",
       "\n",
       "    .dataframe thead th {\n",
       "        text-align: right;\n",
       "    }\n",
       "</style>\n",
       "<table border=\"1\" class=\"dataframe\">\n",
       "  <thead>\n",
       "    <tr style=\"text-align: right;\">\n",
       "      <th></th>\n",
       "      <th>State</th>\n",
       "      <th>CCN</th>\n",
       "      <th>Provider Name</th>\n",
       "      <th>City</th>\n",
       "      <th>Ownership Type</th>\n",
       "      <th>ESRD Network</th>\n",
       "      <th>NPI</th>\n",
       "      <th>Chain Name</th>\n",
       "      <th>Modality</th>\n",
       "      <th>Alternate CCN(s)</th>\n",
       "      <th>Measure</th>\n",
       "      <th>Measure Score</th>\n",
       "      <th>Year(s) covered by the measure</th>\n",
       "      <th>Measure ID</th>\n",
       "    </tr>\n",
       "  </thead>\n",
       "  <tbody>\n",
       "    <tr>\n",
       "      <th>0</th>\n",
       "      <td>AL</td>\n",
       "      <td>12306</td>\n",
       "      <td>CHILDRENS HOSPITAL OF ALABAMA ESRD</td>\n",
       "      <td>BIRMINGHAM</td>\n",
       "      <td>Non-profit</td>\n",
       "      <td>8</td>\n",
       "      <td>1720166085</td>\n",
       "      <td>INDEPENDENT</td>\n",
       "      <td>Hemodialysis and Peritoneal Dialysis</td>\n",
       "      <td>012306,013300</td>\n",
       "      <td>F: Prevalent Patients - End of Year Status: Nu...</td>\n",
       "      <td>20.00</td>\n",
       "      <td>2016</td>\n",
       "      <td>pahy1_f</td>\n",
       "    </tr>\n",
       "    <tr>\n",
       "      <th>1</th>\n",
       "      <td>AL</td>\n",
       "      <td>12306</td>\n",
       "      <td>CHILDRENS HOSPITAL OF ALABAMA ESRD</td>\n",
       "      <td>BIRMINGHAM</td>\n",
       "      <td>Non-profit</td>\n",
       "      <td>8</td>\n",
       "      <td>1720166085</td>\n",
       "      <td>INDEPENDENT</td>\n",
       "      <td>Hemodialysis and Peritoneal Dialysis</td>\n",
       "      <td>012306,013300</td>\n",
       "      <td>F: Prevalent Patients - Age: Average patient a...</td>\n",
       "      <td>8.40</td>\n",
       "      <td>2016</td>\n",
       "      <td>agey1_f</td>\n",
       "    </tr>\n",
       "    <tr>\n",
       "      <th>2</th>\n",
       "      <td>AL</td>\n",
       "      <td>12306</td>\n",
       "      <td>CHILDRENS HOSPITAL OF ALABAMA ESRD</td>\n",
       "      <td>BIRMINGHAM</td>\n",
       "      <td>Non-profit</td>\n",
       "      <td>8</td>\n",
       "      <td>1720166085</td>\n",
       "      <td>INDEPENDENT</td>\n",
       "      <td>Hemodialysis and Peritoneal Dialysis</td>\n",
       "      <td>012306,013300</td>\n",
       "      <td>F: Prevalent Patients - Vintage: Average Years...</td>\n",
       "      <td>3.58</td>\n",
       "      <td>2016</td>\n",
       "      <td>viny1_f</td>\n",
       "    </tr>\n",
       "    <tr>\n",
       "      <th>3</th>\n",
       "      <td>AL</td>\n",
       "      <td>12306</td>\n",
       "      <td>CHILDRENS HOSPITAL OF ALABAMA ESRD</td>\n",
       "      <td>BIRMINGHAM</td>\n",
       "      <td>Non-profit</td>\n",
       "      <td>8</td>\n",
       "      <td>1720166085</td>\n",
       "      <td>INDEPENDENT</td>\n",
       "      <td>Hemodialysis and Peritoneal Dialysis</td>\n",
       "      <td>012306,013300</td>\n",
       "      <td>F: Prevalent Patients - Age: % Less than 18 ye...</td>\n",
       "      <td>100.00</td>\n",
       "      <td>2016</td>\n",
       "      <td>age1y1_f</td>\n",
       "    </tr>\n",
       "    <tr>\n",
       "      <th>4</th>\n",
       "      <td>AL</td>\n",
       "      <td>12306</td>\n",
       "      <td>CHILDRENS HOSPITAL OF ALABAMA ESRD</td>\n",
       "      <td>BIRMINGHAM</td>\n",
       "      <td>Non-profit</td>\n",
       "      <td>8</td>\n",
       "      <td>1720166085</td>\n",
       "      <td>INDEPENDENT</td>\n",
       "      <td>Hemodialysis and Peritoneal Dialysis</td>\n",
       "      <td>012306,013300</td>\n",
       "      <td>F: Prevalent Patients - Age: % Between 18-64 y...</td>\n",
       "      <td>0.00</td>\n",
       "      <td>2016</td>\n",
       "      <td>age2y1_f</td>\n",
       "    </tr>\n",
       "  </tbody>\n",
       "</table>\n",
       "</div>"
      ],
      "text/plain": [
       "  State    CCN                       Provider Name        City Ownership Type  \\\n",
       "0    AL  12306  CHILDRENS HOSPITAL OF ALABAMA ESRD  BIRMINGHAM     Non-profit   \n",
       "1    AL  12306  CHILDRENS HOSPITAL OF ALABAMA ESRD  BIRMINGHAM     Non-profit   \n",
       "2    AL  12306  CHILDRENS HOSPITAL OF ALABAMA ESRD  BIRMINGHAM     Non-profit   \n",
       "3    AL  12306  CHILDRENS HOSPITAL OF ALABAMA ESRD  BIRMINGHAM     Non-profit   \n",
       "4    AL  12306  CHILDRENS HOSPITAL OF ALABAMA ESRD  BIRMINGHAM     Non-profit   \n",
       "\n",
       "   ESRD Network         NPI   Chain Name  \\\n",
       "0             8  1720166085  INDEPENDENT   \n",
       "1             8  1720166085  INDEPENDENT   \n",
       "2             8  1720166085  INDEPENDENT   \n",
       "3             8  1720166085  INDEPENDENT   \n",
       "4             8  1720166085  INDEPENDENT   \n",
       "\n",
       "                               Modality Alternate CCN(s)  \\\n",
       "0  Hemodialysis and Peritoneal Dialysis    012306,013300   \n",
       "1  Hemodialysis and Peritoneal Dialysis    012306,013300   \n",
       "2  Hemodialysis and Peritoneal Dialysis    012306,013300   \n",
       "3  Hemodialysis and Peritoneal Dialysis    012306,013300   \n",
       "4  Hemodialysis and Peritoneal Dialysis    012306,013300   \n",
       "\n",
       "                                             Measure  Measure Score  \\\n",
       "0  F: Prevalent Patients - End of Year Status: Nu...          20.00   \n",
       "1  F: Prevalent Patients - Age: Average patient a...           8.40   \n",
       "2  F: Prevalent Patients - Vintage: Average Years...           3.58   \n",
       "3  F: Prevalent Patients - Age: % Less than 18 ye...         100.00   \n",
       "4  F: Prevalent Patients - Age: % Between 18-64 y...           0.00   \n",
       "\n",
       "  Year(s) covered by the measure Measure ID  \n",
       "0                           2016    pahy1_f  \n",
       "1                           2016    agey1_f  \n",
       "2                           2016    viny1_f  \n",
       "3                           2016   age1y1_f  \n",
       "4                           2016   age2y1_f  "
      ]
     },
     "metadata": {},
     "output_type": "display_data"
    }
   ],
   "source": [
    "# raw_url = 'https://data.cms.gov/sites/default/files/2021-01/FY_2021_Facility_Level_Dialysis_Facility_Reports.csv'\n",
    "# raw_facilities_df = pd.read_csv(raw_url, dtype={'NPI': 'str', 'Alternate CCN(s)': 'str'})\n",
    "raw_facilities_df = pd.read_csv('FY_2021_Facility_Level_Dialysis_Facility_Reports.csv', dtype={'NPI': 'str', 'Alternate CCN(s)': 'str'})\n",
    "display(raw_facilities_df.head())"
   ]
  },
  {
   "cell_type": "code",
   "execution_count": 50,
   "metadata": {},
   "outputs": [],
   "source": [
    "# raw_facilities_df.info()\n",
    "# display(raw_facilities_df['Measure'].nunique())\n",
    "# display(raw_facilities_df['Measure ID'].nunique())\n",
    "# display(raw_facilities_df['CCN'].nunique())\n",
    "# display(raw_facilities_df['NPI'].nunique())\n",
    "# display(raw_facilities_df['Provider Name'].nunique())\n",
    "# display(raw_facilities_df['Chain Name'].value_counts())\n",
    "# npi_list = raw_facilities_df['NPI'].value_counts()\n",
    "# npi_blank_CCNs = raw_facilities_df[raw_facilities_df['NPI'] == \".\"]['CCN'].value_counts()\n",
    "# raw_facilities_df[raw_facilities_df['CCN'] == 332770]"
   ]
  },
  {
   "cell_type": "code",
   "execution_count": 51,
   "metadata": {},
   "outputs": [
    {
     "name": "stdout",
     "output_type": "stream",
     "text": [
      "Raw Facilities: 7920\n",
      "Extracted Facilities: 7920\n"
     ]
    }
   ],
   "source": [
    "facility_cols = ['State', 'CCN', 'Provider Name', 'City', 'Ownership Type', 'ESRD Network', 'NPI', 'Chain Name', 'Modality', 'Alternate CCN(s)']\n",
    "facilities_df = raw_facilities_df.drop_duplicates(subset=facility_cols)[facility_cols].set_index('CCN')\n",
    "\n",
    "print('Raw Facilities:', raw_facilities_df['CCN'].nunique())\n",
    "print('Extracted Facilities:', facilities_df.shape[0])"
   ]
  },
  {
   "cell_type": "code",
   "execution_count": 52,
   "metadata": {},
   "outputs": [
    {
     "name": "stdout",
     "output_type": "stream",
     "text": [
      "Raw Measures: 2093\n",
      "Extracted Measures: 2093\n"
     ]
    }
   ],
   "source": [
    "measure_cols = ['Measure', 'Measure ID']\n",
    "measures_df = raw_facilities_df.drop_duplicates(subset=measure_cols)[measure_cols].set_index('Measure ID')\n",
    "\n",
    "corr_text_1 = 'F: Adult Incident Patients (2728) - Average age, '\n",
    "corr_text_2 = 'F: SHR (ED) - % Patients with at Least One ED Visit, '\n",
    "agmy_corr_dict = {'agemy1_f': corr_text_1 + '2016', 'agemy2_f': corr_text_1 + '2017', 'agemy3_f': corr_text_1 + '2018', 'agemy4_f': corr_text_1 + '2019'}\n",
    "edpt_corr_dict = {'edpty1_f': corr_text_2 + '2016', 'edpty2_f': corr_text_2 + '2017', 'edpty3_f': corr_text_2 + '2018', 'edpty4_f': corr_text_2 + '2019'}\n",
    "\n",
    "for key in agmy_corr_dict:\n",
    "    measures_df.loc[key]['Measure'] = agmy_corr_dict[key]\n",
    "for key in edpt_corr_dict:\n",
    "    measures_df.loc[key]['Measure'] = edpt_corr_dict[key]\n",
    "\n",
    "print('Raw Measures:', raw_facilities_df['Measure ID'].nunique())\n",
    "print('Extracted Measures:', measures_df.shape[0])"
   ]
  },
  {
   "cell_type": "code",
   "execution_count": 53,
   "metadata": {},
   "outputs": [
    {
     "name": "stdout",
     "output_type": "stream",
     "text": [
      "Raw Scores: 9701304\n",
      "Extracted Scores: 9701304\n"
     ]
    }
   ],
   "source": [
    "# display(raw_facilities_df['Year(s) covered by the measure'].value_counts())\n",
    "raw_facilities_df.rename(columns={'Year(s) covered by the measure' : 'Year'}, inplace=True)\n",
    "fac_scores_df = raw_facilities_df[['CCN', 'Measure ID', 'Year', 'Measure Score']]\n",
    "\n",
    "print('Raw Scores:', raw_facilities_df.shape[0])\n",
    "print('Extracted Scores:', fac_scores_df.shape[0])"
   ]
  },
  {
   "cell_type": "code",
   "execution_count": null,
   "metadata": {},
   "outputs": [],
   "source": []
  }
 ],
 "metadata": {
  "interpreter": {
   "hash": "979628dfc046e7a54659867ccc68d5948480a9dfc52149d4b7b479c34f1708c2"
  },
  "kernelspec": {
   "display_name": "Python 3.8.8 64-bit ('dia-fac': conda)",
   "language": "python",
   "name": "python3"
  },
  "language_info": {
   "codemirror_mode": {
    "name": "ipython",
    "version": 3
   },
   "file_extension": ".py",
   "mimetype": "text/x-python",
   "name": "python",
   "nbconvert_exporter": "python",
   "pygments_lexer": "ipython3",
   "version": "3.8.8"
  },
  "orig_nbformat": 4
 },
 "nbformat": 4,
 "nbformat_minor": 2
}
