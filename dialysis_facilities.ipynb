{
 "cells": [
  {
   "cell_type": "markdown",
   "metadata": {},
   "source": [
    "## Analyzing Dialysis Facilities in the United States  \n",
    "This project will analyze dialysis facilities in the United States and attempt to answer the following question:\n",
    " - What factors lead to better care in a dialysis facility?\n",
    "\n",
    "https://github.com/carl-schick-ds/meteorite-landings\n",
    "\n",
    "https://catalog.data.gov/dataset/medicare-dialysis-facilities"
   ]
  },
  {
   "cell_type": "code",
   "execution_count": null,
   "metadata": {},
   "outputs": [],
   "source": []
  },
  {
   "cell_type": "code",
   "execution_count": null,
   "metadata": {},
   "outputs": [],
   "source": []
  }
 ],
 "metadata": {
  "language_info": {
   "name": "python"
  },
  "orig_nbformat": 4
 },
 "nbformat": 4,
 "nbformat_minor": 2
}
